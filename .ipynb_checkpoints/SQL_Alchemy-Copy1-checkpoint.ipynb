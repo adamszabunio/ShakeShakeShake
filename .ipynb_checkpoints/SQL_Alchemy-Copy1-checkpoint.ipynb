{
 "cells": [
  {
   "cell_type": "code",
   "execution_count": 1,
   "metadata": {
    "collapsed": true
   },
   "outputs": [],
   "source": [
    "reset -fs"
   ]
  },
  {
   "cell_type": "code",
   "execution_count": 2,
   "metadata": {
    "collapsed": true
   },
   "outputs": [],
   "source": [
    "%matplotlib inline\n",
    "\n",
    "import os\n",
    "import pandas as pd\n",
    "import yaml\n",
    "from sqlalchemy import create_engine\n",
    "import matplotlib.pyplot as plt\n",
    "import datetime\n",
    "import numpy as np\n",
    "import matplotlib.dates as mdates\n",
    "plt.style.use('seaborn')"
   ]
  },
  {
   "cell_type": "code",
   "execution_count": 3,
   "metadata": {
    "collapsed": true
   },
   "outputs": [],
   "source": [
    "credentials = yaml.load(open(os.path.expanduser('~/.scripts/credentials.yml')))"
   ]
  },
  {
   "cell_type": "code",
   "execution_count": 4,
   "metadata": {
    "collapsed": true
   },
   "outputs": [],
   "source": [
    "engine = create_engine(\n",
    "        'postgresql://{user}:{password}@{host}:{port}/{dbname}'.format(**credentials['rds']))\n"
   ]
  },
  {
   "cell_type": "code",
   "execution_count": 5,
   "metadata": {
    "collapsed": false
   },
   "outputs": [
    {
     "data": {
      "text/plain": [
       "['quakes']"
      ]
     },
     "execution_count": 5,
     "metadata": {},
     "output_type": "execute_result"
    }
   ],
   "source": [
    "engine.table_names()"
   ]
  },
  {
   "cell_type": "code",
   "execution_count": 6,
   "metadata": {
    "collapsed": false
   },
   "outputs": [
    {
     "data": {
      "text/html": [
       "<div>\n",
       "<style scoped>\n",
       "    .dataframe tbody tr th:only-of-type {\n",
       "        vertical-align: middle;\n",
       "    }\n",
       "\n",
       "    .dataframe tbody tr th {\n",
       "        vertical-align: top;\n",
       "    }\n",
       "\n",
       "    .dataframe thead th {\n",
       "        text-align: right;\n",
       "    }\n",
       "</style>\n",
       "<table border=\"1\" class=\"dataframe\">\n",
       "  <thead>\n",
       "    <tr style=\"text-align: right;\">\n",
       "      <th></th>\n",
       "      <th>count</th>\n",
       "    </tr>\n",
       "  </thead>\n",
       "  <tbody>\n",
       "    <tr>\n",
       "      <th>0</th>\n",
       "      <td>525177</td>\n",
       "    </tr>\n",
       "  </tbody>\n",
       "</table>\n",
       "</div>"
      ],
      "text/plain": [
       "    count\n",
       "0  525177"
      ]
     },
     "execution_count": 6,
     "metadata": {},
     "output_type": "execute_result"
    }
   ],
   "source": [
    "pd.read_sql(\"SELECT COUNT(*) FROM quakes\", engine)"
   ]
  },
  {
   "cell_type": "code",
   "execution_count": 7,
   "metadata": {
    "collapsed": false
   },
   "outputs": [
    {
     "data": {
      "text/html": [
       "<div>\n",
       "<style scoped>\n",
       "    .dataframe tbody tr th:only-of-type {\n",
       "        vertical-align: middle;\n",
       "    }\n",
       "\n",
       "    .dataframe tbody tr th {\n",
       "        vertical-align: top;\n",
       "    }\n",
       "\n",
       "    .dataframe thead th {\n",
       "        text-align: right;\n",
       "    }\n",
       "</style>\n",
       "<table border=\"1\" class=\"dataframe\">\n",
       "  <thead>\n",
       "    <tr style=\"text-align: right;\">\n",
       "      <th></th>\n",
       "      <th>isotime</th>\n",
       "      <th>magnitude</th>\n",
       "      <th>longitude</th>\n",
       "      <th>latitude</th>\n",
       "      <th>altitude</th>\n",
       "    </tr>\n",
       "  </thead>\n",
       "  <tbody>\n",
       "    <tr>\n",
       "      <th>0</th>\n",
       "      <td>2017-12-04 00:08:04.510</td>\n",
       "      <td>5.7</td>\n",
       "      <td>-178.7392</td>\n",
       "      <td>-32.8300</td>\n",
       "      <td>10.00</td>\n",
       "    </tr>\n",
       "    <tr>\n",
       "      <th>1</th>\n",
       "      <td>2017-12-03 11:19:06.810</td>\n",
       "      <td>6.0</td>\n",
       "      <td>-80.2823</td>\n",
       "      <td>-0.4845</td>\n",
       "      <td>24.73</td>\n",
       "    </tr>\n",
       "    <tr>\n",
       "      <th>2</th>\n",
       "      <td>2017-12-01 02:50:00.560</td>\n",
       "      <td>6.0</td>\n",
       "      <td>147.6011</td>\n",
       "      <td>-6.1400</td>\n",
       "      <td>52.71</td>\n",
       "    </tr>\n",
       "    <tr>\n",
       "      <th>3</th>\n",
       "      <td>2017-12-01 02:32:46.470</td>\n",
       "      <td>6.0</td>\n",
       "      <td>57.3306</td>\n",
       "      <td>30.7652</td>\n",
       "      <td>10.00</td>\n",
       "    </tr>\n",
       "    <tr>\n",
       "      <th>4</th>\n",
       "      <td>2017-11-30 06:32:50.770</td>\n",
       "      <td>6.5</td>\n",
       "      <td>-23.4193</td>\n",
       "      <td>-1.1050</td>\n",
       "      <td>10.00</td>\n",
       "    </tr>\n",
       "    <tr>\n",
       "      <th>5</th>\n",
       "      <td>2017-11-29 06:29:05.580</td>\n",
       "      <td>5.7</td>\n",
       "      <td>-76.3145</td>\n",
       "      <td>-14.4747</td>\n",
       "      <td>10.00</td>\n",
       "    </tr>\n",
       "    <tr>\n",
       "      <th>6</th>\n",
       "      <td>2017-11-28 13:15:45.400</td>\n",
       "      <td>5.6</td>\n",
       "      <td>3.2510</td>\n",
       "      <td>72.5964</td>\n",
       "      <td>10.00</td>\n",
       "    </tr>\n",
       "    <tr>\n",
       "      <th>7</th>\n",
       "      <td>2017-11-27 07:11:12.270</td>\n",
       "      <td>6.0</td>\n",
       "      <td>153.2105</td>\n",
       "      <td>-4.6187</td>\n",
       "      <td>57.77</td>\n",
       "    </tr>\n",
       "    <tr>\n",
       "      <th>8</th>\n",
       "      <td>2017-11-25 17:30:01.610</td>\n",
       "      <td>5.8</td>\n",
       "      <td>172.5654</td>\n",
       "      <td>-20.6198</td>\n",
       "      <td>10.16</td>\n",
       "    </tr>\n",
       "    <tr>\n",
       "      <th>9</th>\n",
       "      <td>2017-11-20 18:51:07.360</td>\n",
       "      <td>6.0</td>\n",
       "      <td>-175.0271</td>\n",
       "      <td>-14.6374</td>\n",
       "      <td>6.00</td>\n",
       "    </tr>\n",
       "  </tbody>\n",
       "</table>\n",
       "</div>"
      ],
      "text/plain": [
       "                  isotime  magnitude  longitude  latitude  altitude\n",
       "0 2017-12-04 00:08:04.510        5.7  -178.7392  -32.8300     10.00\n",
       "1 2017-12-03 11:19:06.810        6.0   -80.2823   -0.4845     24.73\n",
       "2 2017-12-01 02:50:00.560        6.0   147.6011   -6.1400     52.71\n",
       "3 2017-12-01 02:32:46.470        6.0    57.3306   30.7652     10.00\n",
       "4 2017-11-30 06:32:50.770        6.5   -23.4193   -1.1050     10.00\n",
       "5 2017-11-29 06:29:05.580        5.7   -76.3145  -14.4747     10.00\n",
       "6 2017-11-28 13:15:45.400        5.6     3.2510   72.5964     10.00\n",
       "7 2017-11-27 07:11:12.270        6.0   153.2105   -4.6187     57.77\n",
       "8 2017-11-25 17:30:01.610        5.8   172.5654  -20.6198     10.16\n",
       "9 2017-11-20 18:51:07.360        6.0  -175.0271  -14.6374      6.00"
      ]
     },
     "execution_count": 7,
     "metadata": {},
     "output_type": "execute_result"
    }
   ],
   "source": [
    "# top 10 recent earthquakes with magnitude > 5.5\n",
    "pd.read_sql(\"SELECT isotime, magnitude, longitude, latitude, altitude FROM quakes WHERE magnitude > 5.5 ORDER BY isotime DESC LIMIT 10\", engine)\n"
   ]
  },
  {
   "cell_type": "code",
   "execution_count": 8,
   "metadata": {
    "collapsed": false
   },
   "outputs": [
    {
     "data": {
      "text/html": [
       "<div>\n",
       "<style scoped>\n",
       "    .dataframe tbody tr th:only-of-type {\n",
       "        vertical-align: middle;\n",
       "    }\n",
       "\n",
       "    .dataframe tbody tr th {\n",
       "        vertical-align: top;\n",
       "    }\n",
       "\n",
       "    .dataframe thead th {\n",
       "        text-align: right;\n",
       "    }\n",
       "</style>\n",
       "<table border=\"1\" class=\"dataframe\">\n",
       "  <thead>\n",
       "    <tr style=\"text-align: right;\">\n",
       "      <th></th>\n",
       "      <th>isotime</th>\n",
       "      <th>magnitude</th>\n",
       "      <th>longitude</th>\n",
       "      <th>latitude</th>\n",
       "      <th>altitude</th>\n",
       "    </tr>\n",
       "  </thead>\n",
       "  <tbody>\n",
       "    <tr>\n",
       "      <th>1797</th>\n",
       "      <td>2013-05-24 05:44:48.000</td>\n",
       "      <td>8.3</td>\n",
       "      <td>153.2210</td>\n",
       "      <td>54.8920</td>\n",
       "      <td>598.10</td>\n",
       "    </tr>\n",
       "    <tr>\n",
       "      <th>1798</th>\n",
       "      <td>2015-09-16 22:54:32.000</td>\n",
       "      <td>8.3</td>\n",
       "      <td>-71.6744</td>\n",
       "      <td>-31.5729</td>\n",
       "      <td>22.44</td>\n",
       "    </tr>\n",
       "    <tr>\n",
       "      <th>1799</th>\n",
       "      <td>2014-04-01 23:46:47.000</td>\n",
       "      <td>8.2</td>\n",
       "      <td>-70.7691</td>\n",
       "      <td>-19.6097</td>\n",
       "      <td>25.00</td>\n",
       "    </tr>\n",
       "    <tr>\n",
       "      <th>1800</th>\n",
       "      <td>2017-09-08 04:49:21.410</td>\n",
       "      <td>8.1</td>\n",
       "      <td>-93.7150</td>\n",
       "      <td>15.0678</td>\n",
       "      <td>69.65</td>\n",
       "    </tr>\n",
       "    <tr>\n",
       "      <th>1801</th>\n",
       "      <td>2016-12-17 10:51:10.000</td>\n",
       "      <td>7.9</td>\n",
       "      <td>153.5216</td>\n",
       "      <td>-4.5049</td>\n",
       "      <td>94.54</td>\n",
       "    </tr>\n",
       "    <tr>\n",
       "      <th>1802</th>\n",
       "      <td>2017-01-22 04:30:22.000</td>\n",
       "      <td>7.9</td>\n",
       "      <td>155.1718</td>\n",
       "      <td>-6.2464</td>\n",
       "      <td>135.00</td>\n",
       "    </tr>\n",
       "    <tr>\n",
       "      <th>1803</th>\n",
       "      <td>2014-06-23 20:53:09.000</td>\n",
       "      <td>7.9</td>\n",
       "      <td>178.7352</td>\n",
       "      <td>51.8486</td>\n",
       "      <td>109.00</td>\n",
       "    </tr>\n",
       "    <tr>\n",
       "      <th>1804</th>\n",
       "      <td>2016-12-08 17:38:46.000</td>\n",
       "      <td>7.8</td>\n",
       "      <td>161.3273</td>\n",
       "      <td>-10.6812</td>\n",
       "      <td>40.00</td>\n",
       "    </tr>\n",
       "    <tr>\n",
       "      <th>1805</th>\n",
       "      <td>2016-03-02 12:49:48.000</td>\n",
       "      <td>7.8</td>\n",
       "      <td>94.3299</td>\n",
       "      <td>-4.9521</td>\n",
       "      <td>24.00</td>\n",
       "    </tr>\n",
       "    <tr>\n",
       "      <th>1806</th>\n",
       "      <td>2015-04-25 06:11:25.000</td>\n",
       "      <td>7.8</td>\n",
       "      <td>84.7314</td>\n",
       "      <td>28.2305</td>\n",
       "      <td>8.22</td>\n",
       "    </tr>\n",
       "  </tbody>\n",
       "</table>\n",
       "</div>"
      ],
      "text/plain": [
       "                     isotime  magnitude  longitude  latitude  altitude\n",
       "1797 2013-05-24 05:44:48.000        8.3   153.2210   54.8920    598.10\n",
       "1798 2015-09-16 22:54:32.000        8.3   -71.6744  -31.5729     22.44\n",
       "1799 2014-04-01 23:46:47.000        8.2   -70.7691  -19.6097     25.00\n",
       "1800 2017-09-08 04:49:21.410        8.1   -93.7150   15.0678     69.65\n",
       "1801 2016-12-17 10:51:10.000        7.9   153.5216   -4.5049     94.54\n",
       "1802 2017-01-22 04:30:22.000        7.9   155.1718   -6.2464    135.00\n",
       "1803 2014-06-23 20:53:09.000        7.9   178.7352   51.8486    109.00\n",
       "1804 2016-12-08 17:38:46.000        7.8   161.3273  -10.6812     40.00\n",
       "1805 2016-03-02 12:49:48.000        7.8    94.3299   -4.9521     24.00\n",
       "1806 2015-04-25 06:11:25.000        7.8    84.7314   28.2305      8.22"
      ]
     },
     "execution_count": 8,
     "metadata": {},
     "output_type": "execute_result"
    }
   ],
   "source": [
    "# top 10 earthquakes since 5/22/2013\n",
    "top_10 = pd.read_sql(\"SELECT isotime, magnitude, longitude, latitude, altitude FROM quakes ORDER BY magnitude DESC\", engine)\n",
    "top_10 = top_10.dropna()\n",
    "top_10.head(10)"
   ]
  },
  {
   "cell_type": "code",
   "execution_count": 9,
   "metadata": {
    "collapsed": true
   },
   "outputs": [],
   "source": [
    "# http://mbostock.github.io/protovis/ex/us_lowres.js\n",
    "# name:'California', code:'ca', borders:\n",
    "ca = [[-120.014648,41.983994],[-120.014648,38.993572],[-114.653320,35.065971],[-114.697266,34.849873],[-114.191895,34.288994],[-114.521484,33.943359],[-114.565430,33.632915],[-114.763184,33.394760],[-114.697266,33.063923],[-114.477539,33.008663],[-114.455566,32.879585],[-114.785156,32.694866],[-117.136230,32.546814],[-117.312012,32.824211],[-117.377930,33.174343],[-118.081055,33.742611],[-118.388672,33.760883],[-118.476562,33.998028],[-118.828125,34.052658],[-119.245605,34.125446],[-119.509277,34.397842],[-120.498047,34.452217],[-120.651855,34.885929],[-120.673828,35.173809],[-120.871582,35.263561],[-120.893555,35.460670],[-121.376953,35.657295],[-121.420898,35.871246],[-121.684570,36.137875],[-121.970215,36.368221],[-121.970215,36.615528],[-121.816406,36.809284],[-121.926270,36.949890],[-122.233887,37.002552],[-122.475586,37.195332],[-122.541504,37.561996],[-122.497559,37.770714],[-122.189941,37.474857],[-122.167969,37.683819],[-122.343750,37.822803],[-122.387695,37.961521],[-122.233887,38.082687],[-122.497559,38.117271],[-122.497559,37.840157],[-122.739258,37.944199],[-122.871094,38.048092],[-123.002930,38.048092],[-122.980957,38.238178],[-123.134766,38.427773],[-123.376465,38.444984],[-123.398438,38.616871],[-123.771973,38.908131],[-123.728027,39.095963],[-123.837891,39.402245],[-123.793945,39.791653],[-124.409180,40.346542],[-124.321289,40.730606],[-124.145508,40.913513],[-124.167480,41.178654],[-124.035645,41.409775],[-124.255371,41.771313],[-124.299316,42.016651],[-120.014648,41.983994]]\n",
    "                                         "
   ]
  },
  {
   "cell_type": "code",
   "execution_count": 10,
   "metadata": {
    "collapsed": false
   },
   "outputs": [
    {
     "name": "stdout",
     "output_type": "stream",
     "text": [
      "California Longitude Boundaries: -124.40918, -114.191895\n",
      "California Latitude Boundaries: 32.546814, 42.016651\n"
     ]
    }
   ],
   "source": [
    "# Rectangular boundaries\n",
    "long = sorted([i[0] for i in ca])\n",
    "print(\"California Longitude Boundaries: {}, {}\".format(min(long), max(long)))\n",
    "lat = sorted([i[1] for i in ca])\n",
    "print(\"California Latitude Boundaries: {}, {}\".format(min(lat), max(lat)))"
   ]
  },
  {
   "cell_type": "code",
   "execution_count": 11,
   "metadata": {
    "collapsed": true
   },
   "outputs": [],
   "source": [
    "# name:'Oklahoma', code:'ok', borders:\n",
    "ok = [[-94.647217,37.028870],[-103.018799,37.011326],[-103.029785,36.483143],[-100.019531,36.509636],[-99.997559,34.606087],[-99.711914,34.415974],[-99.569092,34.434097],[-99.404297,34.370644],[-99.382324,34.470333],[-99.206543,34.334366],[-99.195557,34.225430],[-98.975830,34.225430],[-98.712158,34.107254],[-98.646240,34.170906],[-98.514404,34.098160],[-98.382568,34.161816],[-98.085938,34.116352],[-98.085938,34.016239],[-97.976074,34.016239],[-97.965088,33.897778],[-97.855225,33.861294],[-97.690430,33.998028],[-97.569580,33.916012],[-97.481689,33.934242],[-97.426758,33.833920],[-97.261963,33.897778],[-97.250977,33.979809],[-97.185059,33.770016],[-97.075195,33.833920],[-97.009277,33.961586],[-96.866455,33.879536],[-96.448975,33.779148],[-96.372070,33.696922],[-96.306152,33.770016],[-96.218262,33.760883],[-96.185303,33.852169],[-95.921631,33.879536],[-95.800781,33.852169],[-95.614014,33.943359],[-95.383301,33.879536],[-95.218506,33.979809],[-94.515381,33.642063],[-94.416504,35.344254],[-94.625244,36.491974],[-94.647217,37.028870]]"
   ]
  },
  {
   "cell_type": "code",
   "execution_count": 12,
   "metadata": {
    "collapsed": false
   },
   "outputs": [
    {
     "name": "stdout",
     "output_type": "stream",
     "text": [
      "Oklahoma Longitude Boundaries: -103.029785, -94.416504\n",
      "Oklahoma Latitude Boundaries: 33.642063, 37.02887\n"
     ]
    }
   ],
   "source": [
    "# Rectangular boundaries\n",
    "ok_long = sorted([i[0] for i in ok])\n",
    "print(\"Oklahoma Longitude Boundaries: {}, {}\".format(min(ok_long), max(ok_long)))\n",
    "ok_lat = sorted([i[1] for i in ok])\n",
    "print(\"Oklahoma Latitude Boundaries: {}, {}\".format(min(ok_lat), max(ok_lat)))"
   ]
  },
  {
   "cell_type": "code",
   "execution_count": 13,
   "metadata": {
    "collapsed": false
   },
   "outputs": [],
   "source": [
    "long_min=-124.40918 \n",
    "long_max=-114.191895 \n",
    "lat_min=32.546814 \n",
    "lat_max=42.016651\n",
    "state = \"california\""
   ]
  },
  {
   "cell_type": "code",
   "execution_count": 14,
   "metadata": {
    "collapsed": false
   },
   "outputs": [
    {
     "data": {
      "text/html": [
       "<div>\n",
       "<style scoped>\n",
       "    .dataframe tbody tr th:only-of-type {\n",
       "        vertical-align: middle;\n",
       "    }\n",
       "\n",
       "    .dataframe tbody tr th {\n",
       "        vertical-align: top;\n",
       "    }\n",
       "\n",
       "    .dataframe thead th {\n",
       "        text-align: right;\n",
       "    }\n",
       "</style>\n",
       "<table border=\"1\" class=\"dataframe\">\n",
       "  <thead>\n",
       "    <tr style=\"text-align: right;\">\n",
       "      <th></th>\n",
       "      <th>isotime</th>\n",
       "      <th>magnitude</th>\n",
       "    </tr>\n",
       "  </thead>\n",
       "  <tbody>\n",
       "    <tr>\n",
       "      <th>0</th>\n",
       "      <td>2017-12-05 23:32:41.940</td>\n",
       "      <td>0.69</td>\n",
       "    </tr>\n",
       "    <tr>\n",
       "      <th>1</th>\n",
       "      <td>2017-12-05 23:27:12.330</td>\n",
       "      <td>2.06</td>\n",
       "    </tr>\n",
       "    <tr>\n",
       "      <th>2</th>\n",
       "      <td>2017-12-05 23:13:30.376</td>\n",
       "      <td>0.30</td>\n",
       "    </tr>\n",
       "    <tr>\n",
       "      <th>3</th>\n",
       "      <td>2017-12-05 23:11:15.540</td>\n",
       "      <td>0.86</td>\n",
       "    </tr>\n",
       "    <tr>\n",
       "      <th>4</th>\n",
       "      <td>2017-12-05 22:48:20.350</td>\n",
       "      <td>1.40</td>\n",
       "    </tr>\n",
       "  </tbody>\n",
       "</table>\n",
       "</div>"
      ],
      "text/plain": [
       "                  isotime  magnitude\n",
       "0 2017-12-05 23:32:41.940       0.69\n",
       "1 2017-12-05 23:27:12.330       2.06\n",
       "2 2017-12-05 23:13:30.376       0.30\n",
       "3 2017-12-05 23:11:15.540       0.86\n",
       "4 2017-12-05 22:48:20.350       1.40"
      ]
     },
     "execution_count": 14,
     "metadata": {},
     "output_type": "execute_result"
    }
   ],
   "source": [
    "cal = pd.read_sql(\"SELECT isotime, magnitude FROM quakes WHERE (longitude >= {} and longitude <= {}) and (latitude >= {} and latitude <= {}) ORDER BY isotime DESC LIMIT 100\".format(long_min, long_max, lat_min, lat_max), engine)\n",
    "cal.head()"
   ]
  },
  {
   "cell_type": "code",
   "execution_count": 72,
   "metadata": {
    "collapsed": false
   },
   "outputs": [
    {
     "name": "stdout",
     "output_type": "stream",
     "text": [
      "Max number of quakes in one day: 1241\n",
      "Date of max quakes: 2014-09-26 00:00:00+00:00\n"
     ]
    },
    {
     "data": {
      "image/png": "[encoded data removed]",
      "text/plain": [
       "<matplotlib.figure.Figure at 0x114ec57b8>"
      ]
     },
     "metadata": {},
     "output_type": "display_data"
    }
   ],
   "source": [
    "tbl2 = pd.read_sql(\"SELECT isotime FROM quakes WHERE (longitude >= {} and longitude <= {}) and (latitude >= {} and latitude <= {})\".format(long_min, long_max, lat_min, lat_max), engine)\n",
    "locator = mdates.AutoDateLocator()\n",
    "years = mdates.YearLocator()\n",
    "\n",
    "fig, ax = plt.subplots(figsize=(12, 8))\n",
    "data = tbl2.isotime.dt.date\n",
    "mpl_data = mdates.date2num(data)\n",
    "cnts = Counter(mpl_data)\n",
    "max_quakes_day = cnts.most_common()[0][1]\n",
    "print(\"Max number of quakes in one day: {}\".format(max_quakes_day))\n",
    "print(\"Date of max quakes: {}\".format(mdates.num2date(cnts.most_common()[0][0])))\n",
    "ax.hist(mpl_data, bins=len(data.unique()))\n",
    "ax.set_title(\"{} Earthquake counts per day (if occurred)\".format(state), fontsize=25)\n",
    "ax.set_ylabel(\"Count\", fontsize=15)\n",
    "ax.set_xlabel(\"Time\", fontsize=15)\n",
    "ax.xaxis.set_major_locator(years)\n",
    "ax.xaxis.set_major_formatter(mdates.AutoDateFormatter(locator))\n",
    "datemin = datetime.date(tbl2.isotime.min().year, 1, 1)\n",
    "datemax = datetime.date(tbl2.isotime.max().year + 1, 1, 1)\n",
    "ax.set_xlim(datemin, datemax)\n",
    "ax.set_ylim(0, max_quakes_day+1)\n",
    "ax.grid(True)\n",
    "fig.tight_layout()\n",
    "state_quakes = \"{}_quakes.png\".format(state)\n",
    "fig.savefig(state_quakes)"
   ]
  },
  {
   "cell_type": "markdown",
   "metadata": {},
   "source": [
    "# Holy Moly, 1241 quakes in one day!"
   ]
  },
  {
   "cell_type": "code",
   "execution_count": 81,
   "metadata": {
    "collapsed": false
   },
   "outputs": [
    {
     "data": {
      "text/plain": [
       "590"
      ]
     },
     "execution_count": 81,
     "metadata": {},
     "output_type": "execute_result"
    }
   ],
   "source": [
    "sum([cnts.most_common()[i][1] for i in range(10)])//10"
   ]
  },
  {
   "cell_type": "code",
   "execution_count": 86,
   "metadata": {
    "collapsed": false
   },
   "outputs": [
    {
     "name": "stdout",
     "output_type": "stream",
     "text": [
      "Max number of quakes in one day: 1241\n",
      "Date of max quakes: 2014-09-26 00:00:00+00:00\n"
     ]
    },
    {
     "data": {
      "image/png": "[encoded data removed]",
      "text/plain": [
       "<matplotlib.figure.Figure at 0x118c67668>"
      ]
     },
     "metadata": {},
     "output_type": "display_data"
    }
   ],
   "source": [
    "tbl2 = pd.read_sql(\"SELECT isotime FROM quakes WHERE (longitude >= {} and longitude <= {}) and (latitude >= {} and latitude <= {})\".format(long_min, long_max, lat_min, lat_max), engine)\n",
    "locator = mdates.AutoDateLocator()\n",
    "years = mdates.YearLocator()\n",
    "\n",
    "fig, ax = plt.subplots(figsize=(12, 8))\n",
    "data = tbl2.isotime.dt.date\n",
    "mpl_data = mdates.date2num(data)\n",
    "cnts = Counter(mpl_data)\n",
    "max_quakes_day = cnts.most_common()[0][1]\n",
    "print(\"Max number of quakes in one day: {}\".format(max_quakes_day))\n",
    "print(\"Date of max quakes: {}\".format(mdates.num2date(cnts.most_common()[0][0])))\n",
    "ax.hist(mpl_data, bins=len(data.unique()))\n",
    "ax.set_title(\"{} Earthquake counts per day (if occurred)\".format(state), fontsize=25)\n",
    "ax.set_ylabel(\"Count\", fontsize=15)\n",
    "ax.set_xlabel(\"Time\", fontsize=15)\n",
    "ax.xaxis.set_major_locator(years)\n",
    "ax.xaxis.set_major_formatter(mdates.AutoDateFormatter(locator))\n",
    "datemin = datetime.date(tbl2.isotime.min().year, 1, 1)\n",
    "datemax = datetime.date(tbl2.isotime.max().year + 1, 1, 1)\n",
    "ax.set_xlim(datemin, datemax)\n",
    "ax.set_ylim(0, sum([cnts.most_common()[i][1] for i in range(10)])//10)\n",
    "ax.grid(True)\n",
    "fig.tight_layout()\n",
    "state_quakes = \"{}_quakes.png\".format(state)\n",
    "fig.savefig(state_quakes)"
   ]
  },
  {
   "cell_type": "code",
   "execution_count": 16,
   "metadata": {
    "collapsed": false
   },
   "outputs": [],
   "source": [
    "def mag_category(x):\n",
    "    if x <= 2.5:\n",
    "        return(\"0-2.5, not felt\")\n",
    "    elif x > 2.5 and x < 5.5:\n",
    "        return(\"2.5-5.5, felt, minor damage\")\n",
    "    else:\n",
    "        return(\"5.5 and above, damage\")"
   ]
  },
  {
   "cell_type": "code",
   "execution_count": 91,
   "metadata": {
    "collapsed": false
   },
   "outputs": [
    {
     "data": {
      "image/png": "[encoded data removed]",
      "text/plain": [
       "<matplotlib.figure.Figure at 0x11751d9e8>"
      ]
     },
     "metadata": {},
     "output_type": "display_data"
    }
   ],
   "source": [
    "pd.options.mode.chained_assignment = None \n",
    "california_recent = pd.read_sql(\"SELECT isotime, magnitude FROM quakes WHERE (longitude >= {} and longitude <= {}) and (latitude >= {} and latitude <= {}) ORDER BY isotime DESC LIMIT 5000\".format(long_min, long_max, lat_min, lat_max), engine)\n",
    "ca_recent = california_recent.head(10).to_html()\n",
    "\n",
    "tbl = california_recent.dropna()\n",
    "\n",
    "tbl['magnitude'] = tbl['magnitude'].apply(lambda x: mag_category(x))\n",
    "tbl.isotime = tbl.isotime.dt.date\n",
    "tbl = tbl.groupby(['isotime', 'magnitude'])['isotime'].count().unstack('magnitude').fillna(0)\n",
    "\n",
    "ax = tbl.plot(kind='bar', stacked=True, figsize=(12, 8))\n",
    "ax.set_title(\"5000 most recent instances for {}\".format(state), fontsize=25)\n",
    "ax.legend(fontsize=12, loc=0)\n",
    "ax.legend_.set_title(\"Magnitude Range\", prop={'size': 12})\n",
    "ax.set_ylabel(\"Count\", fontsize=20)\n",
    "ax.xaxis_date()\n",
    "ax.set_xlabel(\"Counts per day (if occured)\", fontsize=15)\n",
    "ax.grid(True)\n",
    "fig = ax.get_figure()\n",
    "fig.tight_layout()\n",
    "state_fig_name_stacked = '{}_recent_quakes_stacked.png'.format(state)\n",
    "fig.savefig(state_fig_name_stacked)"
   ]
  },
  {
   "cell_type": "code",
   "execution_count": 18,
   "metadata": {
    "collapsed": false
   },
   "outputs": [
    {
     "data": {
      "text/html": [
       "<div>\n",
       "<style scoped>\n",
       "    .dataframe tbody tr th:only-of-type {\n",
       "        vertical-align: middle;\n",
       "    }\n",
       "\n",
       "    .dataframe tbody tr th {\n",
       "        vertical-align: top;\n",
       "    }\n",
       "\n",
       "    .dataframe thead th {\n",
       "        text-align: right;\n",
       "    }\n",
       "</style>\n",
       "<table border=\"1\" class=\"dataframe\">\n",
       "  <thead>\n",
       "    <tr style=\"text-align: right;\">\n",
       "      <th></th>\n",
       "      <th>isotime</th>\n",
       "      <th>magnitude</th>\n",
       "    </tr>\n",
       "  </thead>\n",
       "  <tbody>\n",
       "    <tr>\n",
       "      <th>95</th>\n",
       "      <td>2017-10-31 09:50:51.370</td>\n",
       "      <td>4.1</td>\n",
       "    </tr>\n",
       "    <tr>\n",
       "      <th>96</th>\n",
       "      <td>2017-10-31 07:06:46.050</td>\n",
       "      <td>2.6</td>\n",
       "    </tr>\n",
       "    <tr>\n",
       "      <th>97</th>\n",
       "      <td>2017-10-30 14:49:49.440</td>\n",
       "      <td>3.1</td>\n",
       "    </tr>\n",
       "    <tr>\n",
       "      <th>98</th>\n",
       "      <td>2017-10-29 16:43:59.060</td>\n",
       "      <td>2.1</td>\n",
       "    </tr>\n",
       "    <tr>\n",
       "      <th>99</th>\n",
       "      <td>2017-10-28 09:32:45.970</td>\n",
       "      <td>2.7</td>\n",
       "    </tr>\n",
       "  </tbody>\n",
       "</table>\n",
       "</div>"
      ],
      "text/plain": [
       "                   isotime  magnitude\n",
       "95 2017-10-31 09:50:51.370        4.1\n",
       "96 2017-10-31 07:06:46.050        2.6\n",
       "97 2017-10-30 14:49:49.440        3.1\n",
       "98 2017-10-29 16:43:59.060        2.1\n",
       "99 2017-10-28 09:32:45.970        2.7"
      ]
     },
     "execution_count": 18,
     "metadata": {},
     "output_type": "execute_result"
    }
   ],
   "source": [
    "tbl_ok = pd.read_sql(\"SELECT isotime, magnitude FROM quakes WHERE (longitude >= -103.029785 and longitude <= -94.416504) and (latitude >= 33.642063 and  latitude <= 37.02887) ORDER BY isotime DESC LIMIT 100\", engine)\n",
    "tbl_ok.tail()"
   ]
  },
  {
   "cell_type": "code",
   "execution_count": 19,
   "metadata": {
    "collapsed": false
   },
   "outputs": [
    {
     "data": {
      "text/plain": [
       "isotime      100\n",
       "magnitude    100\n",
       "dtype: int64"
      ]
     },
     "execution_count": 19,
     "metadata": {},
     "output_type": "execute_result"
    }
   ],
   "source": [
    "tbl_ok.dropna(inplace=True)\n",
    "tbl_ok.count()"
   ]
  },
  {
   "cell_type": "code",
   "execution_count": 20,
   "metadata": {
    "collapsed": false
   },
   "outputs": [
    {
     "data": {
      "text/html": [
       "<div>\n",
       "<style scoped>\n",
       "    .dataframe tbody tr th:only-of-type {\n",
       "        vertical-align: middle;\n",
       "    }\n",
       "\n",
       "    .dataframe tbody tr th {\n",
       "        vertical-align: top;\n",
       "    }\n",
       "\n",
       "    .dataframe thead th {\n",
       "        text-align: right;\n",
       "    }\n",
       "</style>\n",
       "<table border=\"1\" class=\"dataframe\">\n",
       "  <thead>\n",
       "    <tr style=\"text-align: right;\">\n",
       "      <th></th>\n",
       "      <th>isotime</th>\n",
       "      <th>magnitude</th>\n",
       "    </tr>\n",
       "  </thead>\n",
       "  <tbody>\n",
       "    <tr>\n",
       "      <th>0</th>\n",
       "      <td>2017-12-05</td>\n",
       "      <td>2.4</td>\n",
       "    </tr>\n",
       "    <tr>\n",
       "      <th>1</th>\n",
       "      <td>2017-12-05</td>\n",
       "      <td>2.8</td>\n",
       "    </tr>\n",
       "    <tr>\n",
       "      <th>2</th>\n",
       "      <td>2017-12-05</td>\n",
       "      <td>4.2</td>\n",
       "    </tr>\n",
       "    <tr>\n",
       "      <th>3</th>\n",
       "      <td>2017-12-05</td>\n",
       "      <td>2.8</td>\n",
       "    </tr>\n",
       "    <tr>\n",
       "      <th>4</th>\n",
       "      <td>2017-12-04</td>\n",
       "      <td>2.9</td>\n",
       "    </tr>\n",
       "  </tbody>\n",
       "</table>\n",
       "</div>"
      ],
      "text/plain": [
       "      isotime  magnitude\n",
       "0  2017-12-05        2.4\n",
       "1  2017-12-05        2.8\n",
       "2  2017-12-05        4.2\n",
       "3  2017-12-05        2.8\n",
       "4  2017-12-04        2.9"
      ]
     },
     "execution_count": 20,
     "metadata": {},
     "output_type": "execute_result"
    }
   ],
   "source": [
    "tbl_ok.isotime = tbl_ok.isotime.dt.date\n",
    "tbl_ok.head()"
   ]
  },
  {
   "cell_type": "code",
   "execution_count": 21,
   "metadata": {
    "collapsed": true
   },
   "outputs": [],
   "source": [
    "tbl_ok['magnitude'] = tbl_ok['magnitude'].apply(lambda x: mag_category(x))"
   ]
  },
  {
   "cell_type": "code",
   "execution_count": 22,
   "metadata": {
    "collapsed": false
   },
   "outputs": [
    {
     "data": {
      "text/html": [
       "<div>\n",
       "<style scoped>\n",
       "    .dataframe tbody tr th:only-of-type {\n",
       "        vertical-align: middle;\n",
       "    }\n",
       "\n",
       "    .dataframe tbody tr th {\n",
       "        vertical-align: top;\n",
       "    }\n",
       "\n",
       "    .dataframe thead th {\n",
       "        text-align: right;\n",
       "    }\n",
       "</style>\n",
       "<table border=\"1\" class=\"dataframe\">\n",
       "  <thead>\n",
       "    <tr style=\"text-align: right;\">\n",
       "      <th>magnitude</th>\n",
       "      <th>0-2.5, not felt</th>\n",
       "      <th>2.5-5.5, felt, minor damage</th>\n",
       "    </tr>\n",
       "    <tr>\n",
       "      <th>isotime</th>\n",
       "      <th></th>\n",
       "      <th></th>\n",
       "    </tr>\n",
       "  </thead>\n",
       "  <tbody>\n",
       "    <tr>\n",
       "      <th>2017-10-28</th>\n",
       "      <td>0.0</td>\n",
       "      <td>1.0</td>\n",
       "    </tr>\n",
       "    <tr>\n",
       "      <th>2017-10-29</th>\n",
       "      <td>1.0</td>\n",
       "      <td>0.0</td>\n",
       "    </tr>\n",
       "    <tr>\n",
       "      <th>2017-10-30</th>\n",
       "      <td>0.0</td>\n",
       "      <td>1.0</td>\n",
       "    </tr>\n",
       "    <tr>\n",
       "      <th>2017-10-31</th>\n",
       "      <td>0.0</td>\n",
       "      <td>6.0</td>\n",
       "    </tr>\n",
       "    <tr>\n",
       "      <th>2017-11-01</th>\n",
       "      <td>2.0</td>\n",
       "      <td>2.0</td>\n",
       "    </tr>\n",
       "  </tbody>\n",
       "</table>\n",
       "</div>"
      ],
      "text/plain": [
       "magnitude   0-2.5, not felt  2.5-5.5, felt, minor damage\n",
       "isotime                                                 \n",
       "2017-10-28              0.0                          1.0\n",
       "2017-10-29              1.0                          0.0\n",
       "2017-10-30              0.0                          1.0\n",
       "2017-10-31              0.0                          6.0\n",
       "2017-11-01              2.0                          2.0"
      ]
     },
     "execution_count": 22,
     "metadata": {},
     "output_type": "execute_result"
    }
   ],
   "source": [
    "tbl_ok = tbl_ok.groupby(['isotime','magnitude'])['isotime'].count().unstack('magnitude').fillna(0)\n",
    "tbl_ok.head()"
   ]
  },
  {
   "cell_type": "code",
   "execution_count": 93,
   "metadata": {
    "collapsed": false
   },
   "outputs": [
    {
     "data": {
      "image/png": "[encoded data removed]",
      "text/plain": [
       "<matplotlib.figure.Figure at 0x1186aa550>"
      ]
     },
     "metadata": {},
     "output_type": "display_data"
    }
   ],
   "source": [
    "# fig = ax.get_figure()\n",
    "ax = tbl_ok.plot(kind='bar', stacked=True, figsize=(15,10))\n",
    "ax.set_title(\"100 most recent instances\", fontsize=25)\n",
    "ax.legend(fontsize=20)\n",
    "ax.legend_.set_title(\"Magnitude Range\", prop={'size':20})\n",
    "ax.set_ylabel(\"Count\", fontsize=20)\n",
    "ax.xaxis_date()\n",
    "ax.set_xlabel(\"Counts per day (if occured)\", fontsize=15)\n",
    "ax.grid(True)\n",
    "fig = ax.get_figure()\n",
    "fig.tight_layout()\n",
    "fig.savefig('recent_quakes_stacked.png')"
   ]
  },
  {
   "cell_type": "code",
   "execution_count": 95,
   "metadata": {
    "collapsed": false
   },
   "outputs": [
    {
     "data": {
      "text/html": [
       "<div>\n",
       "<style scoped>\n",
       "    .dataframe tbody tr th:only-of-type {\n",
       "        vertical-align: middle;\n",
       "    }\n",
       "\n",
       "    .dataframe tbody tr th {\n",
       "        vertical-align: top;\n",
       "    }\n",
       "\n",
       "    .dataframe thead th {\n",
       "        text-align: right;\n",
       "    }\n",
       "</style>\n",
       "<table border=\"1\" class=\"dataframe\">\n",
       "  <thead>\n",
       "    <tr style=\"text-align: right;\">\n",
       "      <th></th>\n",
       "      <th>isotime</th>\n",
       "    </tr>\n",
       "  </thead>\n",
       "  <tbody>\n",
       "    <tr>\n",
       "      <th>0</th>\n",
       "      <td>2015-06-10 21:27:00</td>\n",
       "    </tr>\n",
       "    <tr>\n",
       "      <th>1</th>\n",
       "      <td>2015-06-10 19:47:46</td>\n",
       "    </tr>\n",
       "    <tr>\n",
       "      <th>2</th>\n",
       "      <td>2015-06-10 17:54:31</td>\n",
       "    </tr>\n",
       "    <tr>\n",
       "      <th>3</th>\n",
       "      <td>2015-06-10 17:41:15</td>\n",
       "    </tr>\n",
       "    <tr>\n",
       "      <th>4</th>\n",
       "      <td>2015-06-10 13:05:08</td>\n",
       "    </tr>\n",
       "  </tbody>\n",
       "</table>\n",
       "</div>"
      ],
      "text/plain": [
       "              isotime\n",
       "0 2015-06-10 21:27:00\n",
       "1 2015-06-10 19:47:46\n",
       "2 2015-06-10 17:54:31\n",
       "3 2015-06-10 17:41:15\n",
       "4 2015-06-10 13:05:08"
      ]
     },
     "execution_count": 95,
     "metadata": {},
     "output_type": "execute_result"
    }
   ],
   "source": [
    "tbl2_ok = pd.read_sql(\"SELECT isotime FROM quakes WHERE (longitude >= -103.029785 and longitude <= -94.416504) and (latitude >= 33.642063 and  latitude <= 37.02887)\", engine)\n",
    "tbl2_ok.head()"
   ]
  },
  {
   "cell_type": "code",
   "execution_count": 96,
   "metadata": {
    "collapsed": false
   },
   "outputs": [
    {
     "data": {
      "text/plain": [
       "1464"
      ]
     },
     "execution_count": 96,
     "metadata": {},
     "output_type": "execute_result"
    }
   ],
   "source": [
    "data = tbl2_ok.isotime.dt.date\n",
    "len(data.unique())"
   ]
  },
  {
   "cell_type": "code",
   "execution_count": 97,
   "metadata": {
    "collapsed": false
   },
   "outputs": [
    {
     "data": {
      "text/plain": [
       "(736210.0, 49)"
      ]
     },
     "execution_count": 97,
     "metadata": {},
     "output_type": "execute_result"
    }
   ],
   "source": [
    "from collections import Counter\n",
    "\n",
    "cnts = Counter(mpl_data)\n",
    "cnts.most_common()[0]"
   ]
  },
  {
   "cell_type": "code",
   "execution_count": 98,
   "metadata": {
    "collapsed": false
   },
   "outputs": [
    {
     "data": {
      "text/plain": [
       "datetime.datetime(2016, 9, 3, 0, 0, tzinfo=<matplotlib.dates._UTC object at 0x1044eadd8>)"
      ]
     },
     "execution_count": 98,
     "metadata": {},
     "output_type": "execute_result"
    }
   ],
   "source": [
    "mdates.num2date(cnts.most_common()[0][0])"
   ]
  },
  {
   "cell_type": "code",
   "execution_count": 99,
   "metadata": {
    "collapsed": false
   },
   "outputs": [
    {
     "data": {
      "image/png": "[encoded data removed]",
      "text/plain": [
       "<matplotlib.figure.Figure at 0x10844b898>"
      ]
     },
     "metadata": {},
     "output_type": "display_data"
    }
   ],
   "source": [
    "locator = mdates.AutoDateLocator()\n",
    "years = mdates.YearLocator()   \n",
    "\n",
    "fig, ax = plt.subplots(figsize=(15,10))\n",
    "data = tbl2_ok.isotime.dt.date\n",
    "mpl_data = mdates.date2num(data)\n",
    "ax.hist(mpl_data, bins=len(data.unique()))\n",
    "ax.set_title(\"Counts per day (if occurred)\", fontsize=20)\n",
    "ax.set_ylabel(\"Count\", fontsize=15)\n",
    "ax.set_xlabel(\"Time\", fontsize=15)\n",
    "ax.xaxis.set_major_locator(years)\n",
    "ax.xaxis.set_major_formatter(mdates.AutoDateFormatter(locator))\n",
    "datemin = datetime.date(tbl2.isotime.min().year, 1, 1)\n",
    "datemax = datetime.date(tbl2.isotime.max().year + 1, 1, 1)\n",
    "ax.set_xlim(datemin, datemax)\n",
    "ax.set_ylim(0, cnts.most_common()[0][1]+1 )\n",
    "ax.grid(True)\n",
    "fig.tight_layout()\n",
    "fig.savefig(\"ok_quakes.png\")"
   ]
  },
  {
   "cell_type": "code",
   "execution_count": 100,
   "metadata": {
    "collapsed": false
   },
   "outputs": [
    {
     "data": {
      "image/png": "[encoded data removed]",
      "text/plain": [
       "<matplotlib.figure.Figure at 0x1183f1390>"
      ]
     },
     "metadata": {},
     "output_type": "display_data"
    }
   ],
   "source": [
    "tbl2.groupby(tbl2.isotime.dt.year).count().plot(kind='bar');"
   ]
  },
  {
   "cell_type": "code",
   "execution_count": 67,
   "metadata": {
    "collapsed": false
   },
   "outputs": [
    {
     "data": {
      "text/html": [
       "<div>\n",
       "<style scoped>\n",
       "    .dataframe tbody tr th:only-of-type {\n",
       "        vertical-align: middle;\n",
       "    }\n",
       "\n",
       "    .dataframe tbody tr th {\n",
       "        vertical-align: top;\n",
       "    }\n",
       "\n",
       "    .dataframe thead th {\n",
       "        text-align: right;\n",
       "    }\n",
       "</style>\n",
       "<table border=\"1\" class=\"dataframe\">\n",
       "  <thead>\n",
       "    <tr style=\"text-align: right;\">\n",
       "      <th></th>\n",
       "      <th>magnitude</th>\n",
       "    </tr>\n",
       "  </thead>\n",
       "  <tbody>\n",
       "    <tr>\n",
       "      <th>0</th>\n",
       "      <td>2.6</td>\n",
       "    </tr>\n",
       "    <tr>\n",
       "      <th>1</th>\n",
       "      <td>2.6</td>\n",
       "    </tr>\n",
       "    <tr>\n",
       "      <th>2</th>\n",
       "      <td>2.6</td>\n",
       "    </tr>\n",
       "    <tr>\n",
       "      <th>3</th>\n",
       "      <td>2.6</td>\n",
       "    </tr>\n",
       "    <tr>\n",
       "      <th>4</th>\n",
       "      <td>3.4</td>\n",
       "    </tr>\n",
       "  </tbody>\n",
       "</table>\n",
       "</div>"
      ],
      "text/plain": [
       "   magnitude\n",
       "0        2.6\n",
       "1        2.6\n",
       "2        2.6\n",
       "3        2.6\n",
       "4        3.4"
      ]
     },
     "execution_count": 67,
     "metadata": {},
     "output_type": "execute_result"
    }
   ],
   "source": [
    "tbl3 = pd.read_sql(\"SELECT magnitude FROM quakes WHERE (longitude >= -103.029785 and longitude <= -94.416504) and (latitude >= 33.642063 and  latitude <= 37.02887)\", engine)\n",
    "tbl3 = tbl3.dropna()\n",
    "tbl3.head()"
   ]
  },
  {
   "cell_type": "code",
   "execution_count": 101,
   "metadata": {
    "collapsed": false
   },
   "outputs": [
    {
     "data": {
      "text/plain": [
       "magnitude    8935\n",
       "dtype: int64"
      ]
     },
     "execution_count": 101,
     "metadata": {},
     "output_type": "execute_result"
    }
   ],
   "source": [
    "tbl3.count()"
   ]
  },
  {
   "cell_type": "code",
   "execution_count": 102,
   "metadata": {
    "collapsed": false
   },
   "outputs": [
    {
     "data": {
      "text/plain": [
       "124"
      ]
     },
     "execution_count": 102,
     "metadata": {},
     "output_type": "execute_result"
    }
   ],
   "source": [
    "len(tbl3.magnitude.unique())"
   ]
  },
  {
   "cell_type": "code",
   "execution_count": 103,
   "metadata": {
    "collapsed": false
   },
   "outputs": [
    {
     "data": {
      "text/plain": [
       "5.7999999999999998"
      ]
     },
     "execution_count": 103,
     "metadata": {},
     "output_type": "execute_result"
    }
   ],
   "source": [
    "tbl3.magnitude.max()"
   ]
  },
  {
   "cell_type": "code",
   "execution_count": 104,
   "metadata": {
    "collapsed": false
   },
   "outputs": [
    {
     "data": {
      "image/png": "[encoded data removed]",
      "text/plain": [
       "<matplotlib.figure.Figure at 0x10b78a8d0>"
      ]
     },
     "metadata": {},
     "output_type": "display_data"
    }
   ],
   "source": [
    "fig1 = plt.gcf()\n",
    "plt.hist(x=\"magnitude\", data=tbl3, bins=len(tbl3.magnitude.unique()))\n",
    "# plt.savefig(\"oklahoma_quakes.png\")\n",
    "fig1.savefig(\"oklahoma_quakes.png\")"
   ]
  },
  {
   "cell_type": "code",
   "execution_count": 33,
   "metadata": {
    "collapsed": false
   },
   "outputs": [
    {
     "ename": "KeyError",
     "evalue": "'month_year'",
     "output_type": "error",
     "traceback": [
      "\u001b[0;31m---------------------------------------------------------------------------\u001b[0m",
      "\u001b[0;31mKeyError\u001b[0m                                  Traceback (most recent call last)",
      "\u001b[0;32m<ipython-input-33-beaff20143dc>\u001b[0m in \u001b[0;36m<module>\u001b[0;34m()\u001b[0m\n\u001b[0;32m----> 1\u001b[0;31m \u001b[0mtbl\u001b[0m\u001b[0;34m.\u001b[0m\u001b[0mgroupby\u001b[0m\u001b[0;34m(\u001b[0m\u001b[0;34m[\u001b[0m\u001b[0;34m\"month_year\"\u001b[0m\u001b[0;34m]\u001b[0m\u001b[0;34m)\u001b[0m\u001b[0;34m.\u001b[0m\u001b[0mcount\u001b[0m\u001b[0;34m(\u001b[0m\u001b[0;34m)\u001b[0m\u001b[0;34m\u001b[0m\u001b[0m\n\u001b[0m",
      "\u001b[0;32m/Users/adamszabunio/anaconda/lib/python3.6/site-packages/pandas/core/generic.py\u001b[0m in \u001b[0;36mgroupby\u001b[0;34m(self, by, axis, level, as_index, sort, group_keys, squeeze, **kwargs)\u001b[0m\n\u001b[1;32m   5160\u001b[0m         return groupby(self, by=by, axis=axis, level=level, as_index=as_index,\n\u001b[1;32m   5161\u001b[0m                        \u001b[0msort\u001b[0m\u001b[0;34m=\u001b[0m\u001b[0msort\u001b[0m\u001b[0;34m,\u001b[0m \u001b[0mgroup_keys\u001b[0m\u001b[0;34m=\u001b[0m\u001b[0mgroup_keys\u001b[0m\u001b[0;34m,\u001b[0m \u001b[0msqueeze\u001b[0m\u001b[0;34m=\u001b[0m\u001b[0msqueeze\u001b[0m\u001b[0;34m,\u001b[0m\u001b[0;34m\u001b[0m\u001b[0m\n\u001b[0;32m-> 5162\u001b[0;31m                        **kwargs)\n\u001b[0m\u001b[1;32m   5163\u001b[0m \u001b[0;34m\u001b[0m\u001b[0m\n\u001b[1;32m   5164\u001b[0m     def asfreq(self, freq, method=None, how=None, normalize=False,\n",
      "\u001b[0;32m/Users/adamszabunio/anaconda/lib/python3.6/site-packages/pandas/core/groupby.py\u001b[0m in \u001b[0;36mgroupby\u001b[0;34m(obj, by, **kwds)\u001b[0m\n\u001b[1;32m   1757\u001b[0m         \u001b[0;32mraise\u001b[0m \u001b[0mTypeError\u001b[0m\u001b[0;34m(\u001b[0m\u001b[0;34m'invalid type: %s'\u001b[0m \u001b[0;34m%\u001b[0m \u001b[0mtype\u001b[0m\u001b[0;34m(\u001b[0m\u001b[0mobj\u001b[0m\u001b[0;34m)\u001b[0m\u001b[0;34m)\u001b[0m\u001b[0;34m\u001b[0m\u001b[0m\n\u001b[1;32m   1758\u001b[0m \u001b[0;34m\u001b[0m\u001b[0m\n\u001b[0;32m-> 1759\u001b[0;31m     \u001b[0;32mreturn\u001b[0m \u001b[0mklass\u001b[0m\u001b[0;34m(\u001b[0m\u001b[0mobj\u001b[0m\u001b[0;34m,\u001b[0m \u001b[0mby\u001b[0m\u001b[0;34m,\u001b[0m \u001b[0;34m**\u001b[0m\u001b[0mkwds\u001b[0m\u001b[0;34m)\u001b[0m\u001b[0;34m\u001b[0m\u001b[0m\n\u001b[0m\u001b[1;32m   1760\u001b[0m \u001b[0;34m\u001b[0m\u001b[0m\n\u001b[1;32m   1761\u001b[0m \u001b[0;34m\u001b[0m\u001b[0m\n",
      "\u001b[0;32m/Users/adamszabunio/anaconda/lib/python3.6/site-packages/pandas/core/groupby.py\u001b[0m in \u001b[0;36m__init__\u001b[0;34m(self, obj, keys, axis, level, grouper, exclusions, selection, as_index, sort, group_keys, squeeze, **kwargs)\u001b[0m\n\u001b[1;32m    390\u001b[0m                                                     \u001b[0mlevel\u001b[0m\u001b[0;34m=\u001b[0m\u001b[0mlevel\u001b[0m\u001b[0;34m,\u001b[0m\u001b[0;34m\u001b[0m\u001b[0m\n\u001b[1;32m    391\u001b[0m                                                     \u001b[0msort\u001b[0m\u001b[0;34m=\u001b[0m\u001b[0msort\u001b[0m\u001b[0;34m,\u001b[0m\u001b[0;34m\u001b[0m\u001b[0m\n\u001b[0;32m--> 392\u001b[0;31m                                                     mutated=self.mutated)\n\u001b[0m\u001b[1;32m    393\u001b[0m \u001b[0;34m\u001b[0m\u001b[0m\n\u001b[1;32m    394\u001b[0m         \u001b[0mself\u001b[0m\u001b[0;34m.\u001b[0m\u001b[0mobj\u001b[0m \u001b[0;34m=\u001b[0m \u001b[0mobj\u001b[0m\u001b[0;34m\u001b[0m\u001b[0m\n",
      "\u001b[0;32m/Users/adamszabunio/anaconda/lib/python3.6/site-packages/pandas/core/groupby.py\u001b[0m in \u001b[0;36m_get_grouper\u001b[0;34m(obj, key, axis, level, sort, mutated, validate)\u001b[0m\n\u001b[1;32m   2840\u001b[0m                 \u001b[0min_axis\u001b[0m\u001b[0;34m,\u001b[0m \u001b[0mname\u001b[0m\u001b[0;34m,\u001b[0m \u001b[0mlevel\u001b[0m\u001b[0;34m,\u001b[0m \u001b[0mgpr\u001b[0m \u001b[0;34m=\u001b[0m \u001b[0;32mFalse\u001b[0m\u001b[0;34m,\u001b[0m \u001b[0;32mNone\u001b[0m\u001b[0;34m,\u001b[0m \u001b[0mgpr\u001b[0m\u001b[0;34m,\u001b[0m \u001b[0;32mNone\u001b[0m\u001b[0;34m\u001b[0m\u001b[0m\n\u001b[1;32m   2841\u001b[0m             \u001b[0;32melse\u001b[0m\u001b[0;34m:\u001b[0m\u001b[0;34m\u001b[0m\u001b[0m\n\u001b[0;32m-> 2842\u001b[0;31m                 \u001b[0;32mraise\u001b[0m \u001b[0mKeyError\u001b[0m\u001b[0;34m(\u001b[0m\u001b[0mgpr\u001b[0m\u001b[0;34m)\u001b[0m\u001b[0;34m\u001b[0m\u001b[0m\n\u001b[0m\u001b[1;32m   2843\u001b[0m         \u001b[0;32melif\u001b[0m \u001b[0misinstance\u001b[0m\u001b[0;34m(\u001b[0m\u001b[0mgpr\u001b[0m\u001b[0;34m,\u001b[0m \u001b[0mGrouper\u001b[0m\u001b[0;34m)\u001b[0m \u001b[0;32mand\u001b[0m \u001b[0mgpr\u001b[0m\u001b[0;34m.\u001b[0m\u001b[0mkey\u001b[0m \u001b[0;32mis\u001b[0m \u001b[0;32mnot\u001b[0m \u001b[0;32mNone\u001b[0m\u001b[0;34m:\u001b[0m\u001b[0;34m\u001b[0m\u001b[0m\n\u001b[1;32m   2844\u001b[0m             \u001b[0;31m# Add key to exclusions\u001b[0m\u001b[0;34m\u001b[0m\u001b[0;34m\u001b[0m\u001b[0m\n",
      "\u001b[0;31mKeyError\u001b[0m: 'month_year'"
     ]
    }
   ],
   "source": [
    "tbl.groupby([\"month_year\"]).count()"
   ]
  },
  {
   "cell_type": "code",
   "execution_count": null,
   "metadata": {
    "collapsed": true
   },
   "outputs": [],
   "source": []
  }
 ],
 "metadata": {
  "kernelspec": {
   "display_name": "Python [default]",
   "language": "python",
   "name": "python3"
  },
  "language_info": {
   "codemirror_mode": {
    "name": "ipython",
    "version": 3
   },
   "file_extension": ".py",
   "mimetype": "text/x-python",
   "name": "python",
   "nbconvert_exporter": "python",
   "pygments_lexer": "ipython3",
   "version": "3.6.0"
  }
 },
 "nbformat": 4,
 "nbformat_minor": 2
}
